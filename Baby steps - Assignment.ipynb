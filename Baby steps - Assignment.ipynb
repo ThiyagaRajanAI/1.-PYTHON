{
 "cells": [
  {
   "cell_type": "code",
   "execution_count": null,
   "metadata": {},
   "outputs": [],
   "source": [
    "# welcome to Assignment - 1"
   ]
  },
  {
   "cell_type": "code",
   "execution_count": 1,
   "metadata": {},
   "outputs": [
    {
     "name": "stdout",
     "output_type": "stream",
     "text": [
      "Welcome to Assignment-1\n"
     ]
    }
   ],
   "source": [
    "print(\"Welcome to Assignment-1\")"
   ]
  },
  {
   "cell_type": "code",
   "execution_count": null,
   "metadata": {},
   "outputs": [],
   "source": [
    "num1 = 10\n",
    "num2 = 30\n",
    "Add  = 40 "
   ]
  },
  {
   "cell_type": "code",
   "execution_count": 2,
   "metadata": {},
   "outputs": [
    {
     "name": "stdout",
     "output_type": "stream",
     "text": [
      "num1= 10\n",
      "num2= 30\n",
      "Add= 40\n"
     ]
    }
   ],
   "source": [
    "num1=10\n",
    "print(\"num1=\",num1)\n",
    "num2=30\n",
    "print(\"num2=\",num2)\n",
    "Add=num1+num2\n",
    "print(\"Add=\",Add)"
   ]
  },
  {
   "cell_type": "code",
   "execution_count": 20,
   "metadata": {},
   "outputs": [
    {
     "name": "stdout",
     "output_type": "stream",
     "text": [
      "Enter the BMI Index:34\n"
     ]
    }
   ],
   "source": [
    "Index:int(input(\"Enter the BMI Index:\"))"
   ]
  },
  {
   "cell_type": "code",
   "execution_count": 21,
   "metadata": {},
   "outputs": [
    {
     "name": "stdout",
     "output_type": "stream",
     "text": [
      "very over weight\n"
     ]
    }
   ],
   "source": [
    "if(Index<18):\n",
    "    print(\"under weight\")\n",
    "else:\n",
    "    print(\"very over weight\")"
   ]
  },
  {
   "cell_type": "code",
   "execution_count": 18,
   "metadata": {},
   "outputs": [
    {
     "name": "stdout",
     "output_type": "stream",
     "text": [
      "Enter the BMI Index:34\n"
     ]
    }
   ],
   "source": [
    "Index:int(input(\"Enter the BMI Index:\"))"
   ]
  },
  {
   "cell_type": "code",
   "execution_count": 19,
   "metadata": {},
   "outputs": [
    {
     "name": "stdout",
     "output_type": "stream",
     "text": [
      "very over weight\n"
     ]
    }
   ],
   "source": [
    "if(Index==34):\n",
    "    print(\"very over weight\")"
   ]
  },
  {
   "cell_type": "code",
   "execution_count": 9,
   "metadata": {},
   "outputs": [
    {
     "name": "stdout",
     "output_type": "stream",
     "text": [
      "Enter the BMI Index:12\n",
      "under weight\n"
     ]
    }
   ],
   "source": [
    "Index=int(input(\"Enter the BMI Index:\"))\n",
    "if(Index<18):\n",
    "    print(\"under weight\")\n",
    "elif(Index<24):\n",
    "    print(\"normal range\")\n",
    "elif(Index<30):\n",
    "    print(\"mid range\")\n",
    "else:\n",
    "    print(\"very over weight\")\n",
    "        "
   ]
  },
  {
   "cell_type": "code",
   "execution_count": 10,
   "metadata": {},
   "outputs": [
    {
     "name": "stdout",
     "output_type": "stream",
     "text": [
      "Enter the BMI Index:23\n",
      "normal range\n"
     ]
    }
   ],
   "source": [
    "Index=int(input(\"Enter the BMI Index:\"))\n",
    "if(Index<18):\n",
    "    print(\"under weight\")\n",
    "elif(Index<24):\n",
    "    print(\"normal range\")\n",
    "elif(Index<30):\n",
    "    print(\"mid range\")\n",
    "else:\n",
    "    print(\"very over weight\")\n",
    "        "
   ]
  },
  {
   "cell_type": "code",
   "execution_count": 11,
   "metadata": {},
   "outputs": [
    {
     "name": "stdout",
     "output_type": "stream",
     "text": [
      "Enter the BMI Index:29\n",
      "mid range\n"
     ]
    }
   ],
   "source": [
    "Index=int(input(\"Enter the BMI Index:\"))\n",
    "if(Index<18):\n",
    "    print(\"under weight\")\n",
    "elif(Index<24):\n",
    "    print(\"normal range\")\n",
    "elif(Index<30):\n",
    "    print(\"mid range\")\n",
    "else:\n",
    "    print(\"very over weight\")\n",
    "        "
   ]
  },
  {
   "cell_type": "code",
   "execution_count": 13,
   "metadata": {},
   "outputs": [
    {
     "name": "stdout",
     "output_type": "stream",
     "text": [
      "Enter the BMI Index:34\n",
      "very over weight\n"
     ]
    }
   ],
   "source": [
    "Index=int(input(\"Enter the BMI Index:\"))\n",
    "if(Index<18):\n",
    "    print(\"under weight\")\n",
    "elif(Index<24):\n",
    "    print(\"normal range\")\n",
    "elif(Index<30):\n",
    "    print(\"mid range\")\n",
    "else:\n",
    "    print(\"very over weight\")\n",
    "        "
   ]
  },
  {
   "cell_type": "code",
   "execution_count": null,
   "metadata": {},
   "outputs": [],
   "source": []
  }
 ],
 "metadata": {
  "kernelspec": {
   "display_name": "Python 3",
   "language": "python",
   "name": "python3"
  },
  "language_info": {
   "codemirror_mode": {
    "name": "ipython",
    "version": 3
   },
   "file_extension": ".py",
   "mimetype": "text/x-python",
   "name": "python",
   "nbconvert_exporter": "python",
   "pygments_lexer": "ipython3",
   "version": "3.7.4"
  }
 },
 "nbformat": 4,
 "nbformat_minor": 2
}
