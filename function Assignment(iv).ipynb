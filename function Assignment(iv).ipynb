{
 "cells": [
  {
   "cell_type": "code",
   "execution_count": 1,
   "metadata": {},
   "outputs": [],
   "source": [
    "def triangle():\n",
    "    Height=3\n",
    "    print(\"Height:\",Height)\n",
    "    Breadth=4\n",
    "    print(\"Breadth:\",Breadth)\n",
    "    print(\"Area formula :(Height*Breadth)/2\")\n",
    "    Areaformula=(Height*Breadth)/2\n",
    "    print(\"Area of Triangle:\",Areaformula)\n",
    "    maths=\"Area of Traingle\"\n",
    "    Height1=3\n",
    "    print(\"Height:\",Height)\n",
    "    Height2=4\n",
    "    print(\"Height:\",Height)\n",
    "    Breadth=45\n",
    "    print(\"Breadth:\",Breadth)\n",
    "    print(\"Perimeter formula :Height1+Height2+Breadth\")\n",
    "    Perimeterformula=Height1+Height2+Breadth\n",
    "    print(\"Perimeter of Triangle:\",Perimeterformula)\n",
    "    maths=\"perimeter of Triangle\"\n",
    "    return maths\n",
    "    "
   ]
  },
  {
   "cell_type": "code",
   "execution_count": 2,
   "metadata": {},
   "outputs": [
    {
     "name": "stdout",
     "output_type": "stream",
     "text": [
      "Height: 3\n",
      "Breadth: 4\n",
      "Area formula :(Height*Breadth)/2\n",
      "Area of Triangle: 6.0\n",
      "Height: 3\n",
      "Height: 3\n",
      "Breadth: 45\n",
      "Perimeter formula :Height1+Height2+Breadth\n",
      "Perimeter of Triangle: 52\n"
     ]
    }
   ],
   "source": [
    "trs=triangle()"
   ]
  },
  {
   "cell_type": "code",
   "execution_count": 3,
   "metadata": {},
   "outputs": [
    {
     "data": {
      "text/plain": [
       "'perimeter of Triangle'"
      ]
     },
     "execution_count": 3,
     "metadata": {},
     "output_type": "execute_result"
    }
   ],
   "source": [
    "trs"
   ]
  },
  {
   "cell_type": "code",
   "execution_count": null,
   "metadata": {},
   "outputs": [],
   "source": []
  },
  {
   "cell_type": "code",
   "execution_count": null,
   "metadata": {},
   "outputs": [],
   "source": []
  }
 ],
 "metadata": {
  "kernelspec": {
   "display_name": "Python 3",
   "language": "python",
   "name": "python3"
  },
  "language_info": {
   "codemirror_mode": {
    "name": "ipython",
    "version": 3
   },
   "file_extension": ".py",
   "mimetype": "text/x-python",
   "name": "python",
   "nbconvert_exporter": "python",
   "pygments_lexer": "ipython3",
   "version": "3.7.4"
  }
 },
 "nbformat": 4,
 "nbformat_minor": 2
}
