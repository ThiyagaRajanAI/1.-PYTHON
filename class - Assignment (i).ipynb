{
 "cells": [
  {
   "cell_type": "code",
   "execution_count": 1,
   "metadata": {},
   "outputs": [],
   "source": [
    "name=[\"Machine Learning\",\"Neural Networks\",\"Vision\",\"Robotics\",\"Speech Processing\",\"Natural Language Processing\"]\n",
    "class subfieldsinAI():\n",
    "     def Subfields():\n",
    "        print(\"Sub fields in AI are:\")\n",
    "        for string in name:\n",
    "            print(string)\n",
    "            list=\"string\"\n",
    "        return list"
   ]
  },
  {
   "cell_type": "code",
   "execution_count": 2,
   "metadata": {},
   "outputs": [
    {
     "name": "stdout",
     "output_type": "stream",
     "text": [
      "Sub fields in AI are:\n",
      "Machine Learning\n",
      "Neural Networks\n",
      "Vision\n",
      "Robotics\n",
      "Speech Processing\n",
      "Natural Language Processing\n"
     ]
    },
    {
     "data": {
      "text/plain": [
       "'string'"
      ]
     },
     "execution_count": 2,
     "metadata": {},
     "output_type": "execute_result"
    }
   ],
   "source": [
    "subfieldsinAI.Subfields()"
   ]
  },
  {
   "cell_type": "code",
   "execution_count": 5,
   "metadata": {},
   "outputs": [],
   "source": [
    "class oddeven():\n",
    "    def Oddeven():\n",
    "        num=int(input(\"Enter the number:\"))\n",
    "        if((num%2)==0):\n",
    "            print(num,\" is Even Nmumber\")\n",
    "            name=\"is Even Nmumber\"\n",
    "        else:\n",
    "            print(num,\"is ODD Number\")\n",
    "            name=\"is ODD number\"\n",
    "            return name"
   ]
  },
  {
   "cell_type": "code",
   "execution_count": 6,
   "metadata": {},
   "outputs": [
    {
     "name": "stdout",
     "output_type": "stream",
     "text": [
      "Enter the number:5242\n",
      "5242  is Even Nmumber\n"
     ]
    }
   ],
   "source": [
    "oddeven.Oddeven()"
   ]
  },
  {
   "cell_type": "code",
   "execution_count": 7,
   "metadata": {},
   "outputs": [],
   "source": [
    "class ElegiblityForMarriage():\n",
    "    def Elegible():\n",
    "        Gender=input(\"enter the Gender:\")\n",
    "        if(Gender==\"Male\"):\n",
    "            print(\"Gender is correct, proceed age\")\n",
    "            mike=\"Gender is correct, proceed age\"\n",
    "            age=int(input(\"Enter the Age:\"))\n",
    "            if(age>24):\n",
    "                print(\"ElIGIBLE\")\n",
    "                mike=\"ElIGIBLE\"\n",
    "            else:\n",
    "                print(\"NOT ElIGIBLE\")\n",
    "                mike=\" NOT ElIGIBLE\"\n",
    "        else:\n",
    "            print(\"Gender is not Coreect\")\n",
    "            mike=\"Gender is not Correct\"\n",
    "            return mike"
   ]
  },
  {
   "cell_type": "code",
   "execution_count": 8,
   "metadata": {},
   "outputs": [
    {
     "name": "stdout",
     "output_type": "stream",
     "text": [
      "enter the Gender:Male\n",
      "Gender is correct, proceed age\n",
      "Enter the Age:20\n",
      "NOT ElIGIBLE\n"
     ]
    }
   ],
   "source": [
    "ElegiblityForMarriage.Elegible()"
   ]
  },
  {
   "cell_type": "code",
   "execution_count": 10,
   "metadata": {},
   "outputs": [],
   "source": [
    "class ElegiblityForMarriage():\n",
    "    def Elegible():\n",
    "        Gender=input(\"enter the Gender:\")\n",
    "        age=int(input(\"Enter the Age:\"))\n",
    "        if(Gender==\"Male\"):\n",
    "            if(age>24):\n",
    "                print(\"ElIGIBLE\")\n",
    "                mike=\"ElIGIBLE\"\n",
    "            else:\n",
    "                print(\"NOT ElIGIBLE\")\n",
    "                mike=\" NOT ElIGIBLE\"\n",
    "        else:\n",
    "            print(\"Gender is not Coreect\")\n",
    "            mike=\"Gender is not Correct\"\n",
    "            return mike"
   ]
  },
  {
   "cell_type": "code",
   "execution_count": 11,
   "metadata": {},
   "outputs": [
    {
     "name": "stdout",
     "output_type": "stream",
     "text": [
      "enter the Gender:Male\n",
      "Enter the Age:20\n",
      "NOT ElIGIBLE\n"
     ]
    }
   ],
   "source": [
    "ElegiblityForMarriage.Elegible()"
   ]
  },
  {
   "cell_type": "code",
   "execution_count": 12,
   "metadata": {},
   "outputs": [],
   "source": [
    "class FindPercent():\n",
    "    def percentage():\n",
    "        subject1=98\n",
    "        print(\"subject1=\",98)\n",
    "        subject2=98\n",
    "        print(\"subject2=\",87)\n",
    "        subject3=87\n",
    "        print(\"subject3=\",95)\n",
    "        subject4=95\n",
    "        print(\"subject4=\",95)\n",
    "        subject5=93\n",
    "        print(\"subject1=\",93)\n",
    "        Total=468\n",
    "        print(\"Total:\",Total)\n",
    "        per=Total/500*100\n",
    "        print(\"percentage:\",per) \n",
    "        mark=\"percentage\"\n",
    "        return mark\n"
   ]
  },
  {
   "cell_type": "code",
   "execution_count": 13,
   "metadata": {},
   "outputs": [
    {
     "name": "stdout",
     "output_type": "stream",
     "text": [
      "subject1= 98\n",
      "subject2= 87\n",
      "subject3= 95\n",
      "subject4= 95\n",
      "subject1= 93\n",
      "Total: 468\n",
      "percentage: 93.60000000000001\n"
     ]
    },
    {
     "data": {
      "text/plain": [
       "'percentage'"
      ]
     },
     "execution_count": 13,
     "metadata": {},
     "output_type": "execute_result"
    }
   ],
   "source": [
    "FindPercent.percentage()"
   ]
  },
  {
   "cell_type": "code",
   "execution_count": 14,
   "metadata": {},
   "outputs": [],
   "source": [
    "class traingle():\n",
    "    def triangle():\n",
    "        Height=int(input(\"Height:\"))\n",
    "        Breadth=int(input(\"Breadth:\"))\n",
    "        print(\"Area formula: (Height*Breadth)/2\")\n",
    "        triangle=(Height*Breadth)/2\n",
    "        print(\"Area of Triangle:\",triangle)\n",
    "        maths=\"Area of Triangle\"\n",
    "        Height1=2\n",
    "        print(\"Height1:\",Height1)\n",
    "        Height2=4\n",
    "        print(\"Height2:\",Height2)\n",
    "        Breadth=4\n",
    "        print(\"Breadth:\",Breadth)\n",
    "        print(\"Perimeter formula:Height1+Height2+Breadth\")\n",
    "        triangle1=Height1+Height2+Breadth\n",
    "        print(\"Perimeter of Triangle:\",triangle1)\n",
    "        maths=\"Perimeter of Triangle\"\n",
    "        return maths\n"
   ]
  },
  {
   "cell_type": "code",
   "execution_count": 15,
   "metadata": {},
   "outputs": [
    {
     "name": "stdout",
     "output_type": "stream",
     "text": [
      "Height:32\n",
      "Breadth:34\n",
      "Area formula: (Height*Breadth)/2\n",
      "Area of Triangle: 544.0\n",
      "Height1: 2\n",
      "Height2: 4\n",
      "Breadth: 4\n",
      "Perimeter formula:Height1+Height2+Breadth\n",
      "Perimeter of Triangle: 10\n"
     ]
    },
    {
     "data": {
      "text/plain": [
       "'Perimeter of Triangle'"
      ]
     },
     "execution_count": 15,
     "metadata": {},
     "output_type": "execute_result"
    }
   ],
   "source": [
    "traingle.triangle()"
   ]
  },
  {
   "cell_type": "code",
   "execution_count": null,
   "metadata": {},
   "outputs": [],
   "source": []
  }
 ],
 "metadata": {
  "kernelspec": {
   "display_name": "Python 3",
   "language": "python",
   "name": "python3"
  },
  "language_info": {
   "codemirror_mode": {
    "name": "ipython",
    "version": 3
   },
   "file_extension": ".py",
   "mimetype": "text/x-python",
   "name": "python",
   "nbconvert_exporter": "python",
   "pygments_lexer": "ipython3",
   "version": "3.7.4"
  }
 },
 "nbformat": 4,
 "nbformat_minor": 2
}
