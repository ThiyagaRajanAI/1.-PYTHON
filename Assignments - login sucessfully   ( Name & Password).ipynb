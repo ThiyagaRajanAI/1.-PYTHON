{
 "cells": [
  {
   "cell_type": "code",
   "execution_count": 1,
   "metadata": {},
   "outputs": [
    {
     "name": "stdout",
     "output_type": "stream",
     "text": [
      "Enter the name:vicky\n",
      "your name is correct,Enter your password\n",
      "Enter the password:12345\n",
      "login Succsessfully\n"
     ]
    }
   ],
   "source": [
    "name=input(\"Enter the name:\")\n",
    "if(name==\"vicky\"):\n",
    "    print(\"your name is correct,Enter your password\")\n",
    "    password=int(input(\"Enter the password:\"))\n",
    "    if(password==12345):\n",
    "        print(\"login Successfully\")\n",
    "    else:\n",
    "        print(\"password is wrong\")\n",
    "else:\n",
    "    print(\" your name is wrong\")\n",
    "\n",
    "    "
   ]
  },
  {
   "cell_type": "code",
   "execution_count": 7,
   "metadata": {},
   "outputs": [
    {
     "name": "stdout",
     "output_type": "stream",
     "text": [
      "Enter the name:thiyaga\n",
      " your name is wrong\n"
     ]
    }
   ],
   "source": [
    "name=input(\"Enter the name:\")\n",
    "if(name==\"vicky\"):\n",
    "    print(\"your name is correct,Enter your password\")\n",
    "    password=int(input(\"Enter the password:\"))\n",
    "    if(password==12345):\n",
    "        print(\"login Successfully\")\n",
    "    else:\n",
    "        print(\"password is wrong\")\n",
    "else:\n",
    "    print(\" your name is wrong\")\n"
   ]
  },
  {
   "cell_type": "code",
   "execution_count": 9,
   "metadata": {},
   "outputs": [
    {
     "name": "stdout",
     "output_type": "stream",
     "text": [
      "Enter the name:vicky\n",
      "your name is correct,Enter your password\n",
      "Enter the password:123\n",
      "password is wrong\n"
     ]
    }
   ],
   "source": [
    "name=input(\"Enter the name:\")\n",
    "if(name==\"vicky\"):\n",
    "    print(\"your name is correct,Enter your password\")\n",
    "    password=int(input(\"Enter the password:\"))\n",
    "    if(password==12345):\n",
    "        print(\"login Successfully\")\n",
    "    else:\n",
    "        print(\"password is wrong\")\n",
    "else:\n",
    "    print(\" your name is wrong\")\n",
    "    \n",
    "\n",
    "    "
   ]
  },
  {
   "cell_type": "code",
   "execution_count": null,
   "metadata": {},
   "outputs": [],
   "source": []
  }
 ],
 "metadata": {
  "kernelspec": {
   "display_name": "Python 3",
   "language": "python",
   "name": "python3"
  },
  "language_info": {
   "codemirror_mode": {
    "name": "ipython",
    "version": 3
   },
   "file_extension": ".py",
   "mimetype": "text/x-python",
   "name": "python",
   "nbconvert_exporter": "python",
   "pygments_lexer": "ipython3",
   "version": "3.7.4"
  }
 },
 "nbformat": 4,
 "nbformat_minor": 2
}
