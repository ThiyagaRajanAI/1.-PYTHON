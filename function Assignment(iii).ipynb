{
 "cells": [
  {
   "cell_type": "code",
   "execution_count": 17,
   "metadata": {},
   "outputs": [],
   "source": [
    "def Percentage():\n",
    "    subject1=23\n",
    "    print(\"subject1=\",23)\n",
    "    marks=\"subject1\"\n",
    "    subject2=45\n",
    "    print(\"subject2=\",23)\n",
    "    marks=\"subject2\"\n",
    "    subject3=34\n",
    "    print(\"subject3=\",34)\n",
    "    marks=\"subject3\"\n",
    "    subject4=23\n",
    "    print(\"subject4=\",23)\n",
    "    marks=\"subject4\"\n",
    "    subject5=23\n",
    "    print(\"subject5=\",23)\n",
    "    marks=\"subject5\"\n",
    "    Total=148\n",
    "    print(\"Total:\",Total)\n",
    "    per=Total/500*100\n",
    "    print(\"percentage:\",per)\n",
    "    marks=\"percentage\"\n",
    "    return marks\n"
   ]
  },
  {
   "cell_type": "code",
   "execution_count": 19,
   "metadata": {},
   "outputs": [
    {
     "name": "stdout",
     "output_type": "stream",
     "text": [
      "subject1= 23\n",
      "subject2= 23\n",
      "subject3= 34\n",
      "subject4= 23\n",
      "subject5= 23\n",
      "Total: 148\n",
      "percentage: 29.599999999999998\n"
     ]
    }
   ],
   "source": [
    "School=Percentage()"
   ]
  },
  {
   "cell_type": "code",
   "execution_count": 20,
   "metadata": {},
   "outputs": [
    {
     "data": {
      "text/plain": [
       "'percentage'"
      ]
     },
     "execution_count": 20,
     "metadata": {},
     "output_type": "execute_result"
    }
   ],
   "source": [
    "School\n"
   ]
  },
  {
   "cell_type": "code",
   "execution_count": 21,
   "metadata": {},
   "outputs": [],
   "source": [
    "def Percentage():\n",
    "    subject1=23\n",
    "    print(\"subject1=\",23)\n",
    "    subject2=45\n",
    "    print(\"subject2=\",23)\n",
    "    subject3=34\n",
    "    print(\"subject3=\",34)\n",
    "    subject4=23\n",
    "    print(\"subject4=\",23)\n",
    "    subject5=23\n",
    "    print(\"subject5=\",23)\n",
    "    Total=148\n",
    "    print(\"Total:\",Total)\n",
    "    per=Total/500*100\n",
    "    print(\"percentage:\",per)\n",
    "    marks=\"percentage\"\n",
    "    return marks"
   ]
  },
  {
   "cell_type": "code",
   "execution_count": 22,
   "metadata": {},
   "outputs": [
    {
     "name": "stdout",
     "output_type": "stream",
     "text": [
      "subject1= 23\n",
      "subject2= 23\n",
      "subject3= 34\n",
      "subject4= 23\n",
      "subject5= 23\n",
      "Total: 148\n",
      "percentage: 29.599999999999998\n"
     ]
    }
   ],
   "source": [
    "school=Percentage()"
   ]
  },
  {
   "cell_type": "code",
   "execution_count": 23,
   "metadata": {},
   "outputs": [
    {
     "data": {
      "text/plain": [
       "'percentage'"
      ]
     },
     "execution_count": 23,
     "metadata": {},
     "output_type": "execute_result"
    }
   ],
   "source": [
    "school"
   ]
  },
  {
   "cell_type": "code",
   "execution_count": null,
   "metadata": {},
   "outputs": [],
   "source": []
  }
 ],
 "metadata": {
  "kernelspec": {
   "display_name": "Python 3",
   "language": "python",
   "name": "python3"
  },
  "language_info": {
   "codemirror_mode": {
    "name": "ipython",
    "version": 3
   },
   "file_extension": ".py",
   "mimetype": "text/x-python",
   "name": "python",
   "nbconvert_exporter": "python",
   "pygments_lexer": "ipython3",
   "version": "3.7.4"
  }
 },
 "nbformat": 4,
 "nbformat_minor": 2
}
